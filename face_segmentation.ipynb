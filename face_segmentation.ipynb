{
  "nbformat": 4,
  "nbformat_minor": 0,
  "metadata": {
    "colab": {
      "name": "face_segmentation.ipynb",
      "provenance": [],
      "collapsed_sections": [],
      "authorship_tag": "ABX9TyP+zkBpQuIcYe3n6qzu9oCY",
      "include_colab_link": true
    },
    "kernelspec": {
      "name": "python3",
      "display_name": "Python 3"
    },
    "language_info": {
      "name": "python"
    },
    "accelerator": "GPU"
  },
  "cells": [
    {
      "cell_type": "markdown",
      "metadata": {
        "id": "view-in-github",
        "colab_type": "text"
      },
      "source": [
        "<a href=\"https://colab.research.google.com/github/AlexYiningLiu/UNet_Face_Segmentation/blob/main/face_segmentation.ipynb\" target=\"_parent\"><img src=\"https://colab.research.google.com/assets/colab-badge.svg\" alt=\"Open In Colab\"/></a>"
      ]
    },
    {
      "cell_type": "code",
      "metadata": {
        "colab": {
          "base_uri": "https://localhost:8080/"
        },
        "id": "WtJp86FI-UT9",
        "outputId": "b2fe716e-f2f4-43e6-99c6-e66d39078a9c"
      },
      "source": [
        "from google.colab import drive\n",
        "drive.mount('/content/drive', force_remount=True)"
      ],
      "execution_count": 1,
      "outputs": [
        {
          "output_type": "stream",
          "text": [
            "Mounted at /content/drive\n"
          ],
          "name": "stdout"
        }
      ]
    },
    {
      "cell_type": "code",
      "metadata": {
        "id": "ro-NGdLk-fVz"
      },
      "source": [
        "import matplotlib.pyplot as plt\n",
        "import matplotlib.image as mpimg\n",
        "import numpy as np\n",
        "import os \n",
        "import zipfile\n",
        "import random\n",
        "import pandas as pd \n",
        "import cv2"
      ],
      "execution_count": 25,
      "outputs": []
    },
    {
      "cell_type": "code",
      "metadata": {
        "id": "ozoP4hmwMb0R"
      },
      "source": [
        "import tensorflow as tf\n",
        "import tensorflow.keras.backend as K\n",
        "from keras.models import Model, load_model\n",
        "from keras.layers import Input\n",
        "from keras.layers.core import Lambda, RepeatVector, Reshape\n",
        "from keras.layers.convolutional import Conv2D, Conv2DTranspose\n",
        "from keras.layers.pooling import MaxPooling2D\n",
        "from keras.layers.merge import concatenate\n",
        "from keras.callbacks import EarlyStopping, ModelCheckpoint, ReduceLROnPlateau\n",
        "from keras import backend as K"
      ],
      "execution_count": 26,
      "outputs": []
    },
    {
      "cell_type": "markdown",
      "metadata": {
        "id": "SoOo19tVBToL"
      },
      "source": [
        "# Data Loading and Processing"
      ]
    },
    {
      "cell_type": "code",
      "metadata": {
        "colab": {
          "base_uri": "https://localhost:8080/"
        },
        "id": "ZwPclAFXAuQs",
        "outputId": "1fe522bb-e1cd-4e10-fb62-65246cfee97d"
      },
      "source": [
        "df = pd.read_pickle('/content/drive/My Drive/Datasets/annotation.pkl')\n",
        "print(df)"
      ],
      "execution_count": 3,
      "outputs": [
        {
          "output_type": "stream",
          "text": [
            "       ImageEyesGazeDirection_0  ...  ImageEyesHeadDirection_1\n",
            "00000                 -0.203216  ...                  0.046461\n",
            "00001                  0.945687  ...                  0.808736\n",
            "00002                 -0.414811  ...                 -0.061110\n",
            "00003                 -0.976813  ...                 -0.301131\n",
            "00004                  0.980972  ...                 -0.182908\n",
            "...                         ...  ...                       ...\n",
            "03995                 -0.650791  ...                  0.576683\n",
            "03996                  0.990405  ...                 -0.763386\n",
            "03997                 -0.745241  ...                 -0.034462\n",
            "03998                 -0.227230  ...                  0.983453\n",
            "03999                 -0.157115  ...                  0.656179\n",
            "\n",
            "[4000 rows x 4 columns]\n"
          ],
          "name": "stdout"
        }
      ]
    },
    {
      "cell_type": "code",
      "metadata": {
        "id": "1TXUUDPR-jEU"
      },
      "source": [
        "raw_dir = '/content/drive/My Drive/Datasets/Unzipped/output/lit'\n",
        "seg_dir = '/content/drive/My Drive/Datasets/Unzipped/output/segmentation'"
      ],
      "execution_count": 4,
      "outputs": []
    },
    {
      "cell_type": "code",
      "metadata": {
        "colab": {
          "base_uri": "https://localhost:8080/"
        },
        "id": "aW0dwioCAREF",
        "outputId": "95e93806-4223-4f2e-e967-771c44ddddfb"
      },
      "source": [
        "raw_images = np.load('/content/drive/My Drive/Datasets/raw_imgs.npy')\n",
        "print(raw_images.shape)"
      ],
      "execution_count": 5,
      "outputs": [
        {
          "output_type": "stream",
          "text": [
            "(4000, 256, 256, 3)\n"
          ],
          "name": "stdout"
        }
      ]
    },
    {
      "cell_type": "markdown",
      "metadata": {
        "id": "YKR8QLm_A2eK"
      },
      "source": [
        "**Produce np file from segmentation masks**"
      ]
    },
    {
      "cell_type": "markdown",
      "metadata": {
        "id": "FexqqwnFHvko"
      },
      "source": [
        "Only use the face color mask. Ignore the other masks"
      ]
    },
    {
      "cell_type": "code",
      "metadata": {
        "id": "XNFgtm2GAdQy"
      },
      "source": [
        "images = []\n",
        "face_color = (205, 158, 0)\n",
        "for index, i in enumerate(df.index.values):\n",
        "    image_path = os.path.join(seg_dir, i+'.png')\n",
        "    image = cv2.imread(image_path)\n",
        "    image = image[:, 80:560]\n",
        "    image = cv2.resize(image, (256, 256))\n",
        "    mask = np.zeros(image.shape[:2], dtype=bool)\n",
        "    mask |= (image == face_color).all(-1)\n",
        "    image[mask] = (255, 255, 255)\n",
        "    image[~mask] = (0,0,0)\n",
        "    image = cv2.cvtColor(image, cv2.COLOR_BGR2GRAY)\n",
        "    images.append(image)\n",
        "    if index%100==0:\n",
        "        print(\"Image number: %d\" %index)\n",
        "images = np.array(images)"
      ],
      "execution_count": null,
      "outputs": []
    },
    {
      "cell_type": "code",
      "metadata": {
        "id": "tVfgdr7HBDb7"
      },
      "source": [
        "np.save('/content/drive/My Drive/Datasets/face_masks.npy', images)"
      ],
      "execution_count": 37,
      "outputs": []
    },
    {
      "cell_type": "code",
      "metadata": {
        "colab": {
          "base_uri": "https://localhost:8080/"
        },
        "id": "-kruEpuoefvD",
        "outputId": "7f0641db-e527-421c-c32b-cd6c68467153"
      },
      "source": [
        "segmentation_images = np.load('/content/drive/My Drive/Datasets/segmentation_imgs.npy')\n",
        "print(segmentation_images.shape)"
      ],
      "execution_count": null,
      "outputs": [
        {
          "output_type": "stream",
          "text": [
            "(4000, 256, 256, 3)\n"
          ],
          "name": "stdout"
        }
      ]
    },
    {
      "cell_type": "code",
      "metadata": {
        "colab": {
          "base_uri": "https://localhost:8080/"
        },
        "id": "EJyCO8SUK8YS",
        "outputId": "2c7e92dc-e52b-4c2b-ec24-6e55127a6c8a"
      },
      "source": [
        "face_mask_images = np.load('/content/drive/My Drive/Datasets/face_masks.npy')\n",
        "print(face_mask_images.shape)"
      ],
      "execution_count": 4,
      "outputs": [
        {
          "output_type": "stream",
          "text": [
            "(4000, 256, 256)\n"
          ],
          "name": "stdout"
        }
      ]
    },
    {
      "cell_type": "code",
      "metadata": {
        "id": "7-t5sMwLN-Cy"
      },
      "source": [
        "np.random.seed(100)\n",
        "shuffle_ids = np.array([i for i in range(4000)])\n",
        "np.random.shuffle(shuffle_ids)\n",
        "train_ids = shuffle_ids[:int(4000*0.8)]\n",
        "val_ids = shuffle_ids[int(4000*0.8):int(4000*0.8+400)]\n",
        "test_ids = shuffle_ids[int(4000*0.8+400):]"
      ],
      "execution_count": 6,
      "outputs": []
    },
    {
      "cell_type": "code",
      "metadata": {
        "id": "52M1ZxGHOWLq"
      },
      "source": [
        "train_images, train_masks = raw_images[train_ids], face_mask_images[train_ids]\n",
        "val_images, val_masks = raw_images[val_ids], face_mask_images[val_ids]\n",
        "test_images, test_masks = raw_images[test_ids], face_mask_images[test_ids]"
      ],
      "execution_count": 7,
      "outputs": []
    },
    {
      "cell_type": "code",
      "metadata": {
        "colab": {
          "base_uri": "https://localhost:8080/"
        },
        "id": "trBNdl_fOrtZ",
        "outputId": "c0d05dfd-d2c8-49b8-b386-27b7002c0bda"
      },
      "source": [
        "print(train_images.shape, val_images.shape, test_images.shape)"
      ],
      "execution_count": 10,
      "outputs": [
        {
          "output_type": "stream",
          "text": [
            "(3200, 256, 256, 3) (400, 256, 256, 3) (400, 256, 256, 3)\n"
          ],
          "name": "stdout"
        }
      ]
    },
    {
      "cell_type": "code",
      "metadata": {
        "id": "MeRoq_nmc7VB"
      },
      "source": [
        "train_masks = train_masks / train_masks.max()"
      ],
      "execution_count": 8,
      "outputs": []
    },
    {
      "cell_type": "code",
      "metadata": {
        "id": "25y6jcTgdBFp"
      },
      "source": [
        "val_masks = val_masks / val_masks.max()"
      ],
      "execution_count": 10,
      "outputs": []
    },
    {
      "cell_type": "code",
      "metadata": {
        "id": "1eBzeNt_UHLb"
      },
      "source": [
        "del raw_images\n",
        "del face_mask_images"
      ],
      "execution_count": 11,
      "outputs": []
    },
    {
      "cell_type": "markdown",
      "metadata": {
        "id": "xUXSAT5Pge31"
      },
      "source": [
        "# Hyperparameter Setup"
      ]
    },
    {
      "cell_type": "code",
      "metadata": {
        "id": "dosTruG8giDU"
      },
      "source": [
        "BATCH_SIZE = 16 \n",
        "EPOCHS = 60\n",
        "# Patience for the learning rate\n",
        "LR_PATIENCE = 5\n",
        "\n",
        "# Patience for early stopping\n",
        "STOPPING_PATIENCE = 10\n",
        "\n",
        "SHAPE = (256, 256, 3)\n",
        "\n",
        "# Number of classes\n",
        "NUM_CLASSES = 2\n",
        "\n",
        "AUTO = tf.data.experimental.AUTOTUNE\n",
        "\n",
        "CLASSES = {0:'Background', 1:'Face'}"
      ],
      "execution_count": 23,
      "outputs": []
    },
    {
      "cell_type": "markdown",
      "metadata": {
        "id": "CU69TQZ2BZXD"
      },
      "source": [
        "# Model Construction"
      ]
    },
    {
      "cell_type": "code",
      "metadata": {
        "id": "UUeKdemmJYvZ"
      },
      "source": [
        "def getModel():\n",
        "    \n",
        "    # Use the TPU strategy\n",
        "    #with tpu_strategy.scope():\n",
        "        \n",
        "    # Build the model\n",
        "    input_img = Input((SHAPE[0], SHAPE[1], 3), name='img')\n",
        "\n",
        "    c1 = Conv2D(8, (3, 3), activation='relu', padding='same') (input_img)\n",
        "    c1 = Conv2D(8, (3, 3), activation='relu', padding='same') (c1)\n",
        "    p1 = MaxPooling2D((2, 2)) (c1)\n",
        "\n",
        "    c2 = Conv2D(16, (3, 3), activation='relu', padding='same') (p1)\n",
        "    c2 = Conv2D(16, (3, 3), activation='relu', padding='same') (c2)\n",
        "    p2 = MaxPooling2D((2, 2)) (c2)\n",
        "\n",
        "    c3 = Conv2D(32, (3, 3), activation='relu', padding='same') (p2)\n",
        "    c3 = Conv2D(32, (3, 3), activation='relu', padding='same') (c3)\n",
        "    p3 = MaxPooling2D((2, 2)) (c3)\n",
        "\n",
        "    c4 = Conv2D(64, (3, 3), activation='relu', padding='same') (p3)\n",
        "    c4 = Conv2D(64, (3, 3), activation='relu', padding='same') (c4)\n",
        "\n",
        "    u5 = Conv2DTranspose(64, (2, 2), strides=(2, 2), padding='same') (c4)\n",
        "    u5 = concatenate([u5, c3])\n",
        "    c6 = Conv2D(32, (3, 3), activation='relu', padding='same') (u5)\n",
        "    c6 = Conv2D(32, (3, 3), activation='relu', padding='same') (c6)\n",
        "\n",
        "    u7 = Conv2DTranspose(32, (2, 2), strides=(2, 2), padding='same') (c6)\n",
        "    u7 = concatenate([u7, c2])\n",
        "    c7 = Conv2D(16, (3, 3), activation='relu', padding='same') (u7)\n",
        "    c7 = Conv2D(16, (3, 3), activation='relu', padding='same') (c7)\n",
        "\n",
        "    u8 = Conv2DTranspose(16, (2, 2), strides=(2, 2), padding='same') (c7)\n",
        "    u8 = concatenate([u8, c1])\n",
        "    c8 = Conv2D(8, (3, 3), activation='relu', padding='same') (u8)\n",
        "    c8 = Conv2D(8, (3, 3), activation='relu', padding='same') (c8)\n",
        "\n",
        "    outputs = Conv2D(1, (1, 1), activation='sigmoid') (c8)\n",
        "\n",
        "    model = Model(inputs=[input_img], \n",
        "                    outputs=[outputs])\n",
        "\n",
        "    optimizer = tf.keras.optimizers.Adam(learning_rate=0.001)\n",
        "    \n",
        "    model.compile(optimizer=optimizer, \n",
        "                  loss='binary_crossentropy',\n",
        "                  metrics=['accuracy'])\n",
        "\n",
        "    print(model.summary())\n",
        "    return model"
      ],
      "execution_count": 13,
      "outputs": []
    },
    {
      "cell_type": "code",
      "metadata": {
        "colab": {
          "base_uri": "https://localhost:8080/"
        },
        "id": "n_54yFmrQH3h",
        "outputId": "fc42015b-4a4c-4ca2-f5e7-94ef3c8f9a14"
      },
      "source": [
        "model = getModel()"
      ],
      "execution_count": 29,
      "outputs": [
        {
          "output_type": "stream",
          "text": [
            "Model: \"model_1\"\n",
            "__________________________________________________________________________________________________\n",
            "Layer (type)                    Output Shape         Param #     Connected to                     \n",
            "==================================================================================================\n",
            "img (InputLayer)                [(None, 256, 256, 3) 0                                            \n",
            "__________________________________________________________________________________________________\n",
            "conv2d_15 (Conv2D)              (None, 256, 256, 8)  224         img[0][0]                        \n",
            "__________________________________________________________________________________________________\n",
            "conv2d_16 (Conv2D)              (None, 256, 256, 8)  584         conv2d_15[0][0]                  \n",
            "__________________________________________________________________________________________________\n",
            "max_pooling2d_3 (MaxPooling2D)  (None, 128, 128, 8)  0           conv2d_16[0][0]                  \n",
            "__________________________________________________________________________________________________\n",
            "conv2d_17 (Conv2D)              (None, 128, 128, 16) 1168        max_pooling2d_3[0][0]            \n",
            "__________________________________________________________________________________________________\n",
            "conv2d_18 (Conv2D)              (None, 128, 128, 16) 2320        conv2d_17[0][0]                  \n",
            "__________________________________________________________________________________________________\n",
            "max_pooling2d_4 (MaxPooling2D)  (None, 64, 64, 16)   0           conv2d_18[0][0]                  \n",
            "__________________________________________________________________________________________________\n",
            "conv2d_19 (Conv2D)              (None, 64, 64, 32)   4640        max_pooling2d_4[0][0]            \n",
            "__________________________________________________________________________________________________\n",
            "conv2d_20 (Conv2D)              (None, 64, 64, 32)   9248        conv2d_19[0][0]                  \n",
            "__________________________________________________________________________________________________\n",
            "max_pooling2d_5 (MaxPooling2D)  (None, 32, 32, 32)   0           conv2d_20[0][0]                  \n",
            "__________________________________________________________________________________________________\n",
            "conv2d_21 (Conv2D)              (None, 32, 32, 64)   18496       max_pooling2d_5[0][0]            \n",
            "__________________________________________________________________________________________________\n",
            "conv2d_22 (Conv2D)              (None, 32, 32, 64)   36928       conv2d_21[0][0]                  \n",
            "__________________________________________________________________________________________________\n",
            "conv2d_transpose_3 (Conv2DTrans (None, 64, 64, 64)   16448       conv2d_22[0][0]                  \n",
            "__________________________________________________________________________________________________\n",
            "concatenate_3 (Concatenate)     (None, 64, 64, 96)   0           conv2d_transpose_3[0][0]         \n",
            "                                                                 conv2d_20[0][0]                  \n",
            "__________________________________________________________________________________________________\n",
            "conv2d_23 (Conv2D)              (None, 64, 64, 32)   27680       concatenate_3[0][0]              \n",
            "__________________________________________________________________________________________________\n",
            "conv2d_24 (Conv2D)              (None, 64, 64, 32)   9248        conv2d_23[0][0]                  \n",
            "__________________________________________________________________________________________________\n",
            "conv2d_transpose_4 (Conv2DTrans (None, 128, 128, 32) 4128        conv2d_24[0][0]                  \n",
            "__________________________________________________________________________________________________\n",
            "concatenate_4 (Concatenate)     (None, 128, 128, 48) 0           conv2d_transpose_4[0][0]         \n",
            "                                                                 conv2d_18[0][0]                  \n",
            "__________________________________________________________________________________________________\n",
            "conv2d_25 (Conv2D)              (None, 128, 128, 16) 6928        concatenate_4[0][0]              \n",
            "__________________________________________________________________________________________________\n",
            "conv2d_26 (Conv2D)              (None, 128, 128, 16) 2320        conv2d_25[0][0]                  \n",
            "__________________________________________________________________________________________________\n",
            "conv2d_transpose_5 (Conv2DTrans (None, 256, 256, 16) 1040        conv2d_26[0][0]                  \n",
            "__________________________________________________________________________________________________\n",
            "concatenate_5 (Concatenate)     (None, 256, 256, 24) 0           conv2d_transpose_5[0][0]         \n",
            "                                                                 conv2d_16[0][0]                  \n",
            "__________________________________________________________________________________________________\n",
            "conv2d_27 (Conv2D)              (None, 256, 256, 8)  1736        concatenate_5[0][0]              \n",
            "__________________________________________________________________________________________________\n",
            "conv2d_28 (Conv2D)              (None, 256, 256, 8)  584         conv2d_27[0][0]                  \n",
            "__________________________________________________________________________________________________\n",
            "conv2d_29 (Conv2D)              (None, 256, 256, 1)  9           conv2d_28[0][0]                  \n",
            "==================================================================================================\n",
            "Total params: 143,729\n",
            "Trainable params: 143,729\n",
            "Non-trainable params: 0\n",
            "__________________________________________________________________________________________________\n",
            "None\n"
          ],
          "name": "stdout"
        }
      ]
    },
    {
      "cell_type": "code",
      "metadata": {
        "id": "LBdAEmIYSiwp"
      },
      "source": [
        "callbacks = [\n",
        "    EarlyStopping(patience=STOPPING_PATIENCE, verbose=1),\n",
        "    ReduceLROnPlateau(patience=LR_PATIENCE, verbose=1),\n",
        "    ModelCheckpoint('/content/drive/My Drive/Datasets/model_face_seg_v1.h5', verbose=1, save_best_only=True)\n",
        "]"
      ],
      "execution_count": 32,
      "outputs": []
    },
    {
      "cell_type": "code",
      "metadata": {
        "colab": {
          "base_uri": "https://localhost:8080/"
        },
        "id": "3bZArAr0Pe6K",
        "outputId": "88c7383b-2034-4933-c100-b81dd03912b4"
      },
      "source": [
        "results = model.fit(train_images, train_masks, batch_size=BATCH_SIZE, epochs=EPOCHS, callbacks=callbacks,\n",
        "                    validation_data=(val_images, val_masks))"
      ],
      "execution_count": 33,
      "outputs": [
        {
          "output_type": "stream",
          "text": [
            "Epoch 1/60\n",
            "200/200 [==============================] - 16s 82ms/step - loss: 0.0556 - accuracy: 0.9750 - val_loss: 0.0446 - val_accuracy: 0.9804\n",
            "\n",
            "Epoch 00001: val_loss improved from inf to 0.04460, saving model to /content/drive/My Drive/Datasets/model_face_seg_v1.h5\n",
            "Epoch 2/60\n",
            "200/200 [==============================] - 16s 82ms/step - loss: 0.0406 - accuracy: 0.9824 - val_loss: 0.0346 - val_accuracy: 0.9852\n",
            "\n",
            "Epoch 00002: val_loss improved from 0.04460 to 0.03461, saving model to /content/drive/My Drive/Datasets/model_face_seg_v1.h5\n",
            "Epoch 3/60\n",
            "200/200 [==============================] - 16s 82ms/step - loss: 0.0331 - accuracy: 0.9859 - val_loss: 0.0301 - val_accuracy: 0.9872\n",
            "\n",
            "Epoch 00003: val_loss improved from 0.03461 to 0.03012, saving model to /content/drive/My Drive/Datasets/model_face_seg_v1.h5\n",
            "Epoch 4/60\n",
            "200/200 [==============================] - 16s 81ms/step - loss: 0.0292 - accuracy: 0.9877 - val_loss: 0.0264 - val_accuracy: 0.9889\n",
            "\n",
            "Epoch 00004: val_loss improved from 0.03012 to 0.02644, saving model to /content/drive/My Drive/Datasets/model_face_seg_v1.h5\n",
            "Epoch 5/60\n",
            "200/200 [==============================] - 16s 81ms/step - loss: 0.0257 - accuracy: 0.9892 - val_loss: 0.0255 - val_accuracy: 0.9893\n",
            "\n",
            "Epoch 00005: val_loss improved from 0.02644 to 0.02548, saving model to /content/drive/My Drive/Datasets/model_face_seg_v1.h5\n",
            "Epoch 6/60\n",
            "200/200 [==============================] - 17s 84ms/step - loss: 0.0240 - accuracy: 0.9900 - val_loss: 0.0231 - val_accuracy: 0.9903\n",
            "\n",
            "Epoch 00006: val_loss improved from 0.02548 to 0.02312, saving model to /content/drive/My Drive/Datasets/model_face_seg_v1.h5\n",
            "Epoch 7/60\n",
            "200/200 [==============================] - 16s 81ms/step - loss: 0.0225 - accuracy: 0.9906 - val_loss: 0.0219 - val_accuracy: 0.9908\n",
            "\n",
            "Epoch 00007: val_loss improved from 0.02312 to 0.02193, saving model to /content/drive/My Drive/Datasets/model_face_seg_v1.h5\n",
            "Epoch 8/60\n",
            "200/200 [==============================] - 16s 81ms/step - loss: 0.0218 - accuracy: 0.9909 - val_loss: 0.0210 - val_accuracy: 0.9912\n",
            "\n",
            "Epoch 00008: val_loss improved from 0.02193 to 0.02099, saving model to /content/drive/My Drive/Datasets/model_face_seg_v1.h5\n",
            "Epoch 9/60\n",
            "200/200 [==============================] - 16s 82ms/step - loss: 0.0206 - accuracy: 0.9914 - val_loss: 0.0207 - val_accuracy: 0.9912\n",
            "\n",
            "Epoch 00009: val_loss improved from 0.02099 to 0.02073, saving model to /content/drive/My Drive/Datasets/model_face_seg_v1.h5\n",
            "Epoch 10/60\n",
            "200/200 [==============================] - 16s 81ms/step - loss: 0.0196 - accuracy: 0.9918 - val_loss: 0.0196 - val_accuracy: 0.9919\n",
            "\n",
            "Epoch 00010: val_loss improved from 0.02073 to 0.01963, saving model to /content/drive/My Drive/Datasets/model_face_seg_v1.h5\n",
            "Epoch 11/60\n",
            "200/200 [==============================] - 17s 84ms/step - loss: 0.0190 - accuracy: 0.9921 - val_loss: 0.0189 - val_accuracy: 0.9920\n",
            "\n",
            "Epoch 00011: val_loss improved from 0.01963 to 0.01890, saving model to /content/drive/My Drive/Datasets/model_face_seg_v1.h5\n",
            "Epoch 12/60\n",
            "200/200 [==============================] - 16s 81ms/step - loss: 0.0185 - accuracy: 0.9923 - val_loss: 0.0184 - val_accuracy: 0.9923\n",
            "\n",
            "Epoch 00012: val_loss improved from 0.01890 to 0.01838, saving model to /content/drive/My Drive/Datasets/model_face_seg_v1.h5\n",
            "Epoch 13/60\n",
            "200/200 [==============================] - 17s 84ms/step - loss: 0.0186 - accuracy: 0.9923 - val_loss: 0.0178 - val_accuracy: 0.9926\n",
            "\n",
            "Epoch 00013: val_loss improved from 0.01838 to 0.01775, saving model to /content/drive/My Drive/Datasets/model_face_seg_v1.h5\n",
            "Epoch 14/60\n",
            "200/200 [==============================] - 17s 84ms/step - loss: 0.0174 - accuracy: 0.9927 - val_loss: 0.0176 - val_accuracy: 0.9927\n",
            "\n",
            "Epoch 00014: val_loss improved from 0.01775 to 0.01760, saving model to /content/drive/My Drive/Datasets/model_face_seg_v1.h5\n",
            "Epoch 15/60\n",
            "200/200 [==============================] - 17s 84ms/step - loss: 0.0170 - accuracy: 0.9929 - val_loss: 0.0177 - val_accuracy: 0.9927\n",
            "\n",
            "Epoch 00015: val_loss did not improve from 0.01760\n",
            "Epoch 16/60\n",
            "200/200 [==============================] - 16s 81ms/step - loss: 0.0168 - accuracy: 0.9930 - val_loss: 0.0175 - val_accuracy: 0.9927\n",
            "\n",
            "Epoch 00016: val_loss improved from 0.01760 to 0.01748, saving model to /content/drive/My Drive/Datasets/model_face_seg_v1.h5\n",
            "Epoch 17/60\n",
            "200/200 [==============================] - 17s 84ms/step - loss: 0.0165 - accuracy: 0.9931 - val_loss: 0.0172 - val_accuracy: 0.9928\n",
            "\n",
            "Epoch 00017: val_loss improved from 0.01748 to 0.01718, saving model to /content/drive/My Drive/Datasets/model_face_seg_v1.h5\n",
            "Epoch 18/60\n",
            "200/200 [==============================] - 16s 81ms/step - loss: 0.0162 - accuracy: 0.9932 - val_loss: 0.0164 - val_accuracy: 0.9932\n",
            "\n",
            "Epoch 00018: val_loss improved from 0.01718 to 0.01643, saving model to /content/drive/My Drive/Datasets/model_face_seg_v1.h5\n",
            "Epoch 19/60\n",
            "200/200 [==============================] - 16s 81ms/step - loss: 0.0157 - accuracy: 0.9934 - val_loss: 0.0167 - val_accuracy: 0.9931\n",
            "\n",
            "Epoch 00019: val_loss did not improve from 0.01643\n",
            "Epoch 20/60\n",
            "200/200 [==============================] - 16s 81ms/step - loss: 0.0156 - accuracy: 0.9935 - val_loss: 0.0160 - val_accuracy: 0.9934\n",
            "\n",
            "Epoch 00020: val_loss improved from 0.01643 to 0.01596, saving model to /content/drive/My Drive/Datasets/model_face_seg_v1.h5\n",
            "Epoch 21/60\n",
            "200/200 [==============================] - 16s 81ms/step - loss: 0.0153 - accuracy: 0.9936 - val_loss: 0.0167 - val_accuracy: 0.9931\n",
            "\n",
            "Epoch 00021: val_loss did not improve from 0.01596\n",
            "Epoch 22/60\n",
            "200/200 [==============================] - 17s 84ms/step - loss: 0.0153 - accuracy: 0.9936 - val_loss: 0.0154 - val_accuracy: 0.9936\n",
            "\n",
            "Epoch 00022: val_loss improved from 0.01596 to 0.01541, saving model to /content/drive/My Drive/Datasets/model_face_seg_v1.h5\n",
            "Epoch 23/60\n",
            "200/200 [==============================] - 16s 82ms/step - loss: 0.0148 - accuracy: 0.9938 - val_loss: 0.0160 - val_accuracy: 0.9934\n",
            "\n",
            "Epoch 00023: val_loss did not improve from 0.01541\n",
            "Epoch 24/60\n",
            "200/200 [==============================] - 17s 84ms/step - loss: 0.0147 - accuracy: 0.9938 - val_loss: 0.0163 - val_accuracy: 0.9932\n",
            "\n",
            "Epoch 00024: val_loss did not improve from 0.01541\n",
            "Epoch 25/60\n",
            "200/200 [==============================] - 16s 81ms/step - loss: 0.0149 - accuracy: 0.9938 - val_loss: 0.0151 - val_accuracy: 0.9937\n",
            "\n",
            "Epoch 00025: val_loss improved from 0.01541 to 0.01508, saving model to /content/drive/My Drive/Datasets/model_face_seg_v1.h5\n",
            "Epoch 26/60\n",
            "200/200 [==============================] - 16s 81ms/step - loss: 0.0143 - accuracy: 0.9940 - val_loss: 0.0155 - val_accuracy: 0.9936\n",
            "\n",
            "Epoch 00026: val_loss did not improve from 0.01508\n",
            "Epoch 27/60\n",
            "200/200 [==============================] - 16s 81ms/step - loss: 0.0143 - accuracy: 0.9940 - val_loss: 0.0153 - val_accuracy: 0.9937\n",
            "\n",
            "Epoch 00027: val_loss did not improve from 0.01508\n",
            "Epoch 28/60\n",
            "200/200 [==============================] - 17s 84ms/step - loss: 0.0158 - accuracy: 0.9934 - val_loss: 0.0154 - val_accuracy: 0.9936\n",
            "\n",
            "Epoch 00028: val_loss did not improve from 0.01508\n",
            "Epoch 29/60\n",
            "200/200 [==============================] - 17s 84ms/step - loss: 0.0141 - accuracy: 0.9941 - val_loss: 0.0146 - val_accuracy: 0.9939\n",
            "\n",
            "Epoch 00029: val_loss improved from 0.01508 to 0.01464, saving model to /content/drive/My Drive/Datasets/model_face_seg_v1.h5\n",
            "Epoch 30/60\n",
            "200/200 [==============================] - 16s 81ms/step - loss: 0.0138 - accuracy: 0.9942 - val_loss: 0.0149 - val_accuracy: 0.9939\n",
            "\n",
            "Epoch 00030: val_loss did not improve from 0.01464\n",
            "Epoch 31/60\n",
            "200/200 [==============================] - 17s 84ms/step - loss: 0.0136 - accuracy: 0.9943 - val_loss: 0.0148 - val_accuracy: 0.9939\n",
            "\n",
            "Epoch 00031: val_loss did not improve from 0.01464\n",
            "Epoch 32/60\n",
            "200/200 [==============================] - 16s 81ms/step - loss: 0.0134 - accuracy: 0.9943 - val_loss: 0.0145 - val_accuracy: 0.9940\n",
            "\n",
            "Epoch 00032: val_loss improved from 0.01464 to 0.01448, saving model to /content/drive/My Drive/Datasets/model_face_seg_v1.h5\n",
            "Epoch 33/60\n",
            "200/200 [==============================] - 17s 84ms/step - loss: 0.0135 - accuracy: 0.9943 - val_loss: 0.0150 - val_accuracy: 0.9938\n",
            "\n",
            "Epoch 00033: val_loss did not improve from 0.01448\n",
            "Epoch 34/60\n",
            "200/200 [==============================] - 17s 84ms/step - loss: 0.0132 - accuracy: 0.9944 - val_loss: 0.0145 - val_accuracy: 0.9940\n",
            "\n",
            "Epoch 00034: val_loss did not improve from 0.01448\n",
            "Epoch 35/60\n",
            "200/200 [==============================] - 16s 81ms/step - loss: 0.0130 - accuracy: 0.9945 - val_loss: 0.0148 - val_accuracy: 0.9939\n",
            "\n",
            "Epoch 00035: val_loss did not improve from 0.01448\n",
            "Epoch 36/60\n",
            "200/200 [==============================] - 17s 84ms/step - loss: 0.0130 - accuracy: 0.9945 - val_loss: 0.0147 - val_accuracy: 0.9939\n",
            "\n",
            "Epoch 00036: val_loss did not improve from 0.01448\n",
            "Epoch 37/60\n",
            "200/200 [==============================] - 17s 84ms/step - loss: 0.0128 - accuracy: 0.9946 - val_loss: 0.0148 - val_accuracy: 0.9939\n",
            "\n",
            "Epoch 00037: ReduceLROnPlateau reducing learning rate to 0.00010000000474974513.\n",
            "\n",
            "Epoch 00037: val_loss did not improve from 0.01448\n",
            "Epoch 38/60\n",
            "200/200 [==============================] - 16s 81ms/step - loss: 0.0120 - accuracy: 0.9949 - val_loss: 0.0140 - val_accuracy: 0.9942\n",
            "\n",
            "Epoch 00038: val_loss improved from 0.01448 to 0.01402, saving model to /content/drive/My Drive/Datasets/model_face_seg_v1.h5\n",
            "Epoch 39/60\n",
            "200/200 [==============================] - 16s 81ms/step - loss: 0.0118 - accuracy: 0.9950 - val_loss: 0.0140 - val_accuracy: 0.9943\n",
            "\n",
            "Epoch 00039: val_loss improved from 0.01402 to 0.01400, saving model to /content/drive/My Drive/Datasets/model_face_seg_v1.h5\n",
            "Epoch 40/60\n",
            "200/200 [==============================] - 17s 84ms/step - loss: 0.0117 - accuracy: 0.9950 - val_loss: 0.0140 - val_accuracy: 0.9943\n",
            "\n",
            "Epoch 00040: val_loss did not improve from 0.01400\n",
            "Epoch 41/60\n",
            "200/200 [==============================] - 16s 81ms/step - loss: 0.0117 - accuracy: 0.9950 - val_loss: 0.0140 - val_accuracy: 0.9943\n",
            "\n",
            "Epoch 00041: val_loss improved from 0.01400 to 0.01398, saving model to /content/drive/My Drive/Datasets/model_face_seg_v1.h5\n",
            "Epoch 42/60\n",
            "200/200 [==============================] - 16s 81ms/step - loss: 0.0117 - accuracy: 0.9951 - val_loss: 0.0140 - val_accuracy: 0.9943\n",
            "\n",
            "Epoch 00042: val_loss did not improve from 0.01398\n",
            "Epoch 43/60\n",
            "200/200 [==============================] - 16s 81ms/step - loss: 0.0116 - accuracy: 0.9951 - val_loss: 0.0141 - val_accuracy: 0.9943\n",
            "\n",
            "Epoch 00043: ReduceLROnPlateau reducing learning rate to 1.0000000474974514e-05.\n",
            "\n",
            "Epoch 00043: val_loss did not improve from 0.01398\n",
            "Epoch 44/60\n",
            "200/200 [==============================] - 17s 84ms/step - loss: 0.0115 - accuracy: 0.9951 - val_loss: 0.0140 - val_accuracy: 0.9943\n",
            "\n",
            "Epoch 00044: val_loss did not improve from 0.01398\n",
            "Epoch 45/60\n",
            "200/200 [==============================] - 17s 84ms/step - loss: 0.0115 - accuracy: 0.9951 - val_loss: 0.0140 - val_accuracy: 0.9943\n",
            "\n",
            "Epoch 00045: val_loss did not improve from 0.01398\n",
            "Epoch 46/60\n",
            "200/200 [==============================] - 16s 81ms/step - loss: 0.0115 - accuracy: 0.9951 - val_loss: 0.0140 - val_accuracy: 0.9943\n",
            "\n",
            "Epoch 00046: val_loss did not improve from 0.01398\n",
            "Epoch 47/60\n",
            "200/200 [==============================] - 16s 81ms/step - loss: 0.0115 - accuracy: 0.9951 - val_loss: 0.0140 - val_accuracy: 0.9943\n",
            "\n",
            "Epoch 00047: val_loss did not improve from 0.01398\n",
            "Epoch 48/60\n",
            "200/200 [==============================] - 16s 81ms/step - loss: 0.0115 - accuracy: 0.9951 - val_loss: 0.0140 - val_accuracy: 0.9943\n",
            "\n",
            "Epoch 00048: ReduceLROnPlateau reducing learning rate to 1.0000000656873453e-06.\n",
            "\n",
            "Epoch 00048: val_loss did not improve from 0.01398\n",
            "Epoch 49/60\n",
            "200/200 [==============================] - 16s 81ms/step - loss: 0.0115 - accuracy: 0.9951 - val_loss: 0.0140 - val_accuracy: 0.9943\n",
            "\n",
            "Epoch 00049: val_loss did not improve from 0.01398\n",
            "Epoch 50/60\n",
            "200/200 [==============================] - 16s 81ms/step - loss: 0.0115 - accuracy: 0.9951 - val_loss: 0.0140 - val_accuracy: 0.9943\n",
            "\n",
            "Epoch 00050: val_loss did not improve from 0.01398\n",
            "Epoch 51/60\n",
            "200/200 [==============================] - 17s 84ms/step - loss: 0.0115 - accuracy: 0.9951 - val_loss: 0.0140 - val_accuracy: 0.9943\n",
            "\n",
            "Epoch 00051: val_loss did not improve from 0.01398\n",
            "Epoch 00051: early stopping\n"
          ],
          "name": "stdout"
        }
      ]
    },
    {
      "cell_type": "code",
      "metadata": {
        "colab": {
          "base_uri": "https://localhost:8080/",
          "height": 233
        },
        "id": "QoTSWpQngO2I",
        "outputId": "822b9bf6-3c6b-4a43-c9f1-b6c2281d5d6b"
      },
      "source": [
        "NUMBER = 19\n",
        "\n",
        "my_preds = model.predict(np.expand_dims(test_images[NUMBER], 0))\n",
        "my_preds = my_preds.flatten()\n",
        "my_preds = np.array([1 if i >= 0.5 else 0 for i in my_preds])\n",
        "fig, ax = plt.subplots(nrows=1, ncols=2)\n",
        "ax[0].imshow(my_preds.reshape(256, 256))\n",
        "ax[0].set_title('Prediction')\n",
        "ax[1].imshow(test_masks[NUMBER].reshape(256, 256))\n",
        "ax[1].set_title('Ground truth')"
      ],
      "execution_count": 21,
      "outputs": [
        {
          "output_type": "execute_result",
          "data": {
            "text/plain": [
              "Text(0.5, 1.0, 'Ground truth')"
            ]
          },
          "metadata": {
            "tags": []
          },
          "execution_count": 21
        },
        {
          "output_type": "display_data",
          "data": {
            "image/png": "[encoded data removed]",
            "text/plain": [
              "<Figure size 432x288 with 2 Axes>"
            ]
          },
          "metadata": {
            "tags": [],
            "needs_background": "light"
          }
        }
      ]
    }
  ]
}